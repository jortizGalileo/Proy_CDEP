{
 "cells": [
  {
   "cell_type": "markdown",
   "metadata": {},
   "source": [
    "# Proyecto Final \n",
    "\n",
    "## Introducción \n",
    "\n",
    "### DataSet\n",
    "\n",
    "El dataset utilizado para este proyecto corresponde a 5 archivos que contienen información de las principales ligas europeas y sus jugadores. Esta información corresponde a las temporadas 2008/2009 y 2009/2010 e incluye también detalles acerca de los distintos encuetros que se llevaron a cabo dentro de dicho período, en qué ligas, cuáles fueron los equipos que perticiparon, quiénes formaban parte de la plantilla en ese momento, entre otros. \n",
    "\n",
    "Algo que también incluye este dataset y resulta ser informaicón valiosa para fines de análisis de la información, son estadísticas que responden a un desempeño muy específico y de interés para los clubes y entrenadores, al momento de identificar el rendimieno que está teniendo su plantilla a lo largo de un torneo regular. En este sentido, es posible para la persona que esté analizando la información inferir sobre indicadores tales como velocidad, aceleración, capacidad de regate, balance o potencia de tiros. Además también se incluyen calificaciones cualitativas de las capacidades del jugar ya sea en defensa o ataque, así como indicadores tan básicos y pero sumamente importantes como la pierna predilecta del jugador. \n",
    "\n",
    "### Principales Tablas \n",
    "\n",
    "Las tablas que conforman este conjunto de datos son: \n",
    "\n",
    "- Country\n",
    "- League\n",
    "- Match\n",
    "- Player\n",
    "- Playes_attributes\n",
    "- Sqlite Master\n",
    "- Sqlite Sequence\n",
    "- Team\n",
    "- Team Attributes \n",
    "\n",
    "Dentro de la tabla League se definen los identificadores principales de las ligas más importantes de Europa\n",
    "\n",
    "![image](https://user-images.githubusercontent.com/99599847/162853492-c5bf1397-ecb9-4da2-9107-3bca3ec214e4.png)\n",
    "\n",
    "En las tablas de Team y Team Attributes se puede encontrar el consolidado de los equipos con su respectivo id único y id fifa. Los atributos más relevantes para fines de análisis que sobresaltan son los que corresponden al estilo de juego que tiene cada uno de los equipos, características defensivas, de ataque, dribleo, etc. \n",
    "\n",
    "![image](https://user-images.githubusercontent.com/99599847/162853676-080e3866-6a5e-4dce-af60-ef906e6fde03.png)\n",
    "\n",
    "Las tablas de Player y Player_attributes son muy similares a las tablas de equipos, una plantea la información general de los jugadores como nombre, fecha de nacimiento y algunos ids específicos, y otra contiene detalles más específicos que corresponden al performance de los jugadores y skills específicos que definen cuáles son sus atributos principales para el funcionamiento dentro del equipo. \n",
    "\n",
    "![image](https://user-images.githubusercontent.com/99599847/162853995-6237f79d-2b2c-4fc3-9a07-4f73bf483862.png)\n",
    "\n",
    "Por último, la tabla Match consolidado un alto número de identificadores que permite tener el consolidado de todos los juegos y las estadísticas de cada uno de ellos durante las dos temporadas que consolidada el dataset. Acá se muestra información relevante estadísticamente del juego, tan básico como los goles, tiros y corners, hasta indicadores más específicos que  se utilizan a niveles más profundos de análisis del juego y que permiten tener un mejor entendimiento del performance que tuvieron ambos equipos y como pudo ser su evolución a lo largo de ambas temporadas. \n",
    "\n",
    "![image](https://user-images.githubusercontent.com/99599847/162854958-932e027f-525a-4c16-a474-a3598494b461.png)"
   ]
  },
  {
   "cell_type": "markdown",
   "metadata": {
    "jp-MarkdownHeadingCollapsed": true,
    "tags": []
   },
   "source": [
    "%load_ext sql "
   ]
  },
  {
   "cell_type": "code",
   "execution_count": null,
   "metadata": {},
   "outputs": [],
   "source": [
    "DB_ENDPOINT = 'proyecto-cdp-v3.cacnlwtsjcuo.us-east-1.rds.amazonaws.com'\n",
    "DB = 'schema_proyectocdp'\n",
    "DB_USER = 'admin'\n",
    "DB_PASSWORD = 'proyectocdp123'\n",
    "DB_PORT = '3306'"
   ]
  },
  {
   "cell_type": "code",
   "execution_count": null,
   "metadata": {},
   "outputs": [],
   "source": [
    "mysql_conn = 'mysql+pymysql://{}:{}@{}/{}'.format(DB_USER, DB_PASSWORD, DB_ENDPOINT, DB)\n",
    "print(mysql_conn)"
   ]
  },
  {
   "cell_type": "code",
   "execution_count": null,
   "metadata": {},
   "outputs": [],
   "source": [
    "%sql $mysql_conn #Solicitud de conexión "
   ]
  },
  {
   "cell_type": "code",
   "execution_count": null,
   "metadata": {},
   "outputs": [],
   "source": [
    "%%sql\n",
    "SELECT * FROM main_Country"
   ]
  },
  {
   "cell_type": "markdown",
   "metadata": {},
   "source": [
    "## Usando Python"
   ]
  },
  {
   "cell_type": "code",
   "execution_count": null,
   "metadata": {},
   "outputs": [],
   "source": [
    "import pandas as pd\n",
    "\n",
    "sql_query = 'SELECT * FROM main_Country;'\n",
    "dfCountry = pd.read_sql(sql_query, mysql_conn)\n",
    "\n",
    "sql_query = 'SELECT * FROM main_League;'\n",
    "dfLeague = pd.read_sql(sql_query, mysql_conn)\n",
    "\n",
    "sql_query = 'SELECT * FROM main_Match;'\n",
    "dfMatch = pd.read_sql(sql_query, mysql_conn)\n",
    "\n",
    "sql_query = 'SELECT * FROM main_Player;'\n",
    "dfPlayer = pd.read_sql(sql_query, mysql_conn)\n",
    "\n",
    "sql_query = 'SELECT * FROM main_Player_Attributes;'\n",
    "dfPlayerAttribute = pd.read_sql(sql_query, mysql_conn)\n",
    "\n",
    "sql_query = 'SELECT * FROM main_Team;'\n",
    "dfTeam = pd.read_sql(sql_query, mysql_conn)\n",
    "\n",
    "sql_query = 'SELECT * FROM main_Team_Attributes;'\n",
    "dfTeamAttribute = pd.read_sql(sql_query, mysql_conn)"
   ]
  },
  {
   "cell_type": "code",
   "execution_count": null,
   "metadata": {},
   "outputs": [],
   "source": [
    "import pandas as pd\n",
    "import numpy as np"
   ]
  },
  {
   "cell_type": "code",
   "execution_count": null,
   "metadata": {},
   "outputs": [],
   "source": [
    "dfCountry_League = dfCountry.merge(dfLeague, left_on='id', right_on='country_id')\n",
    "dfCountry_League.head()"
   ]
  },
  {
   "cell_type": "markdown",
   "metadata": {},
   "source": [
    "### Construcción dim_League"
   ]
  },
  {
   "cell_type": "code",
   "execution_count": null,
   "metadata": {},
   "outputs": [],
   "source": [
    "dimLeague = dfCountry_League.loc[: , ['id', 'country_name','league_id','league_name']]\n",
    "dimLeague.head()"
   ]
  },
  {
   "cell_type": "code",
   "execution_count": null,
   "metadata": {},
   "outputs": [],
   "source": [
    "len(dimLeague)"
   ]
  },
  {
   "cell_type": "markdown",
   "metadata": {},
   "source": [
    "### Construcción dim_Team"
   ]
  },
  {
   "cell_type": "code",
   "execution_count": null,
   "metadata": {},
   "outputs": [],
   "source": [
    "len(dimTeam)"
   ]
  },
  {
   "cell_type": "code",
   "execution_count": null,
   "metadata": {},
   "outputs": [],
   "source": [
    "dfTeam_TeamAttri = dfTeam.merge(dfTeamAttribute, left_on='team_api_id', right_on='team_api_id')\n",
    "dfTeam_TeamAttri.head()"
   ]
  },
  {
   "cell_type": "code",
   "execution_count": null,
   "metadata": {},
   "outputs": [],
   "source": [
    "dimTeam = dfTeam_TeamAttri.loc[: , ['id',\n",
    "'team_api_id',\n",
    "'team_fifa_api_id_x',\n",
    "'team_log_name',\n",
    "'team_short:_name',\n",
    "]]\n",
    "dimTeam.head()"
   ]
  },
  {
   "cell_type": "code",
   "execution_count": null,
   "metadata": {},
   "outputs": [],
   "source": [
    "sql_query = 'SELECT * FROM main_Team;'\n",
    "dfTeam = pd.read_sql(sql_query, mysql_conn)\n",
    "dfTeam.head()"
   ]
  },
  {
   "cell_type": "markdown",
   "metadata": {},
   "source": [
    "## dimDate con Python"
   ]
  },
  {
   "cell_type": "code",
   "execution_count": null,
   "metadata": {},
   "outputs": [],
   "source": [
    "sql_query = 'SELECT date FROM main_Match;'\n",
    "dfDate = pd.read_sql(sql_query, mysql_conn)\n",
    "dfDate['date'] = dfDate['date'].dt.date \n",
    "dfDate.head()"
   ]
  },
  {
   "cell_type": "code",
   "execution_count": null,
   "metadata": {},
   "outputs": [],
   "source": [
    "dfDate['year'] = pd.DatetimeIndex(dfDate['date']).year\n",
    "dfDate['month'] = pd.DatetimeIndex(dfDate['date']).month\n",
    "dfDate['quarter'] = pd.DatetimeIndex(dfDate['date']).quarter\n",
    "dfDate['day'] = pd.DatetimeIndex(dfDate['date']).day\n",
    "dfDate['week'] = pd.DatetimeIndex(dfDate['date']).week\n",
    "dfDate['is_weekend'] = dfDate['dayofweek'].apply(lambda x: 1 if x > 5 else 0)\n",
    "dfDate['dayofweek'] = pd.DatetimeIndex(dfDate['date']).dayofweek\n",
    "dfDate['date'] = pd.to_datetime(dfDate.date, format='%Y-%m-%d')\n",
    "dfDate['date_key'] = dfDate['date'].dt.strftime('%Y%M%d') #Se define date_key para ser la llave foranea en la fact table\n",
    "dfDate.head()"
   ]
  },
  {
   "cell_type": "code",
   "execution_count": null,
   "metadata": {},
   "outputs": [],
   "source": [
    "dimDate = dfDate.loc[:, ['date_key'\n",
    "                         , 'date'\n",
    "                         , 'year'\n",
    "                         , 'month'\n",
    "                         , 'day'\n",
    "                         , 'is_weekend']]\n",
    "dimDate.head()"
   ]
  },
  {
   "cell_type": "markdown",
   "metadata": {},
   "source": [
    " ### Creación Dim Player"
   ]
  },
  {
   "cell_type": "code",
   "execution_count": null,
   "metadata": {},
   "outputs": [],
   "source": [
    "dfPlayer_PlayerAttri = dfPlayer.merge(dfPlayerAttribute, left_on='player_api_id', right_on='player_api_id')\n",
    "dfPlayer_PlayerAttri.head()"
   ]
  },
  {
   "cell_type": "code",
   "execution_count": null,
   "metadata": {},
   "outputs": [],
   "source": [
    "dimPlayer = dfPlayer_PlayerAttri.loc[: , ['id',\n",
    "'player_api_id',\n",
    "'player_name',\n",
    "'player_fifa_api_id_x',\n",
    "'birthday',\n",
    "'height',\n",
    "'weight',\n",
    "]]\n",
    "dimTeam.head()"
   ]
  },
  {
   "cell_type": "markdown",
   "metadata": {},
   "source": [
    "### Creación Fact Table\n"
   ]
  },
  {
   "cell_type": "code",
   "execution_count": null,
   "metadata": {},
   "outputs": [],
   "source": [
    "dfLeague_Match = dfMatch.merge(dimLeague, left_on='league_id', right_on='id')\n",
    "dfLeague_Match.head()"
   ]
  },
  {
   "cell_type": "code",
   "execution_count": null,
   "metadata": {},
   "outputs": [],
   "source": [
    "len(dfLeague_Match)"
   ]
  },
  {
   "cell_type": "code",
   "execution_count": null,
   "metadata": {},
   "outputs": [],
   "source": [
    "dfMatch.head()"
   ]
  },
  {
   "cell_type": "code",
   "execution_count": null,
   "metadata": {},
   "outputs": [],
   "source": [
    "dfLeague_Match.info()"
   ]
  },
  {
   "cell_type": "code",
   "execution_count": null,
   "metadata": {},
   "outputs": [],
   "source": [
    "dfTeam_Match = dfLeague_Match.merge(dimTeam, left_on=['home_team_api_id'], right_on=['team_api_id'])"
   ]
  },
  {
   "cell_type": "code",
   "execution_count": null,
   "metadata": {},
   "outputs": [],
   "source": [
    "dfTeam_Match.info()"
   ]
  },
  {
   "cell_type": "code",
   "execution_count": null,
   "metadata": {},
   "outputs": [],
   "source": [
    "dfTeam_Match_a = dfTeam_Match.merge(dimTeam, left_on=['away_team_api_id'], right_on=['team_api_id'])\n",
    "dfTeam_Match_a.head()"
   ]
  },
  {
   "cell_type": "code",
   "execution_count": null,
   "metadata": {},
   "outputs": [],
   "source": [
    "len(dfTeam_Match_a)"
   ]
  },
  {
   "cell_type": "code",
   "execution_count": null,
   "metadata": {},
   "outputs": [],
   "source": [
    "dfPlayer_Match_b = dimPlayer.merge(dfTeam_Match_a, left_on=['id'] , right_on=['away_player_X1'\n",
    "])\n",
    "dfPlayer_Match_c = dimPlayer.merge(dfPlayer_Match_b, left_on=['id'] , right_on=['away_player_X2'\n",
    "])\n",
    "dfPlayer_Match_d = dimPlayer.merge(dfPlayer_Match_c, left_on=['id'] , right_on=['away_player_X3'\n",
    "])\n",
    "dfPlayer_Match_e = dimPlayer.merge(dfPlayer_Match_d, left_on=['id'] , right_on=['away_player_X4'\n",
    "])\n",
    "dfPlayer_Match_f = dimPlayer.merge(dfPlayer_Match_e, left_on=['id'] , right_on=['away_player_X5'\n",
    "])\n",
    "dfPlayer_Match_g = dimPlayer.merge(dfPlayer_Match_f, left_on=['id'] , right_on=['away_player_X6'\n",
    "])\n",
    "dfPlayer_Match_h = dimPlayer.merge(dfPlayer_Match_g, left_on=['id'] , right_on=['away_player_X7'\n",
    "])\n",
    "dfPlayer_Match_i = dimPlayer.merge(dfPlayer_Match_h, left_on=['id'] , right_on=['away_player_X8'\n",
    "])\n",
    "dfPlayer_Match_j = dimPlayer.merge(dfPlayer_Match_i, left_on=['id'] , right_on=['away_player_X9'\n",
    "])\n",
    "dfPlayer_Match_k = dimPlayer.merge(dfPlayer_Match_j, left_on=['id'] , right_on=['away_player_X10'\n",
    "])\n",
    "dfPlayer_Match_l = dimPlayer.merge(dfPlayer_Match_k, left_on=['id'] , right_on=['away_player_X11'\n",
    "])"
   ]
  },
  {
   "cell_type": "code",
   "execution_count": null,
   "metadata": {},
   "outputs": [],
   "source": [
    "len(dfPlayer_Match_l)"
   ]
  },
  {
   "cell_type": "code",
   "execution_count": null,
   "metadata": {},
   "outputs": [],
   "source": [
    "FactMatch = dfPlayer_Match_l.loc[: , ['id',\n",
    "'player_api_id',\n",
    "'player_fifa_api_id_x',                                \n",
    "'team_api_id_x',\n",
    "'league_id_x', \n",
    "'country_id',\n",
    "'season',\n",
    "'stage',\n",
    "'date',\n",
    "'home_team_api_id',\n",
    "'away_team_api_id',\n",
    "'home_team_goal',\n",
    "'away_team_goal',\n",
    "'home_player_X1',\n",
    "'home_player_X2',\n",
    "'home_player_X3',\n",
    "'home_player_X4',\n",
    "'home_player_X5',\n",
    "'home_player_X6',\n",
    "'home_player_X7',\n",
    "'home_player_X8',\n",
    "'home_player_X9',\n",
    "'home_player_X10',\n",
    "'home_player_X11',\n",
    "'away_player_X1',\n",
    "'away_player_X2',\n",
    "'away_player_X3',\n",
    "'away_player_X4',\n",
    "'away_player_X5',\n",
    "'away_player_X6',\n",
    "'away_player_X7',\n",
    "'away_player_X8',\n",
    "'away_player_X9',\n",
    "'away_player_X10',\n",
    "'away_player_X11',\n",
    "'home_player_Y1',\n",
    "'home_player_Y2',\n",
    "'home_player_Y3',\n",
    "'home_player_Y4',\n",
    "'home_player_Y5',\n",
    "'home_player_Y6',\n",
    "'home_player_Y7',\n",
    "'home_player_Y8',\n",
    "'home_player_Y9',\n",
    "'home_player_Y10',\n",
    "'home_player_Y11',\n",
    "'away_player_Y1',\n",
    "'away_player_Y2',\n",
    "'away_player_Y3',\n",
    "'away_player_Y4',\n",
    "'away_player_Y5',\n",
    "'away_player_Y6',\n",
    "'away_player_Y7',\n",
    "'away_player_Y8',\n",
    "'away_player_Y9',\n",
    "'away_player_Y10',\n",
    "'away_player_Y11',\n",
    "'home_player_1',\n",
    "'home_player_2',\n",
    "'home_player_3',\n",
    "'home_player_4',\n",
    "'home_player_5',\n",
    "'home_player_6',\n",
    "'home_player_7',\n",
    "'home_player_8',\n",
    "'home_player_9',\n",
    "'home_player_10',\n",
    "'home_player_11',\n",
    "'away_player_1',\n",
    "'away_player_2',\n",
    "'away_player_3',\n",
    "'away_player_4',\n",
    "'away_player_5',\n",
    "'away_player_6',\n",
    "'away_player_7',\n",
    "'away_player_8',\n",
    "'away_player_9',\n",
    "'away_player_10',\n",
    "'away_player_11',\n",
    "'goal',\n",
    "'shoton',\n",
    "'shotoff',\n",
    "'foulcommit',\n",
    "'card',\n",
    "'cross',\n",
    "'corner',\n",
    "'possession',\n",
    "'B365H',\n",
    "'B365D',\n",
    "'B365A',\n",
    "'BWH',\n",
    "'BWD',\n",
    "'BWA',\n",
    "'IWH',\n",
    "'IWD',\n",
    "'IWA',\n",
    "'LBH',\n",
    "'LBD',\n",
    "'LBA',\n",
    "'PSH',\n",
    "'PSD',\n",
    "'PSA',\n",
    "'WHH',\n",
    "'WHD',\n",
    "'WHA',\n",
    "'SJH',\n",
    "'SJD',\n",
    "'SJA',\n",
    "'VCH',\n",
    "'VCD',\n",
    "'VCA',\n",
    "'GBH',\n",
    "'GBD',\n",
    "'GBA',\n",
    "'BSH',\n",
    "'BSD',\n",
    "'BSA',                                  \n",
    "]]\n",
    "\n",
    "FactMatch.head()"
   ]
  },
  {
   "cell_type": "code",
   "execution_count": null,
   "metadata": {},
   "outputs": [],
   "source": [
    "FactMatch.info()"
   ]
  },
  {
   "cell_type": "markdown",
   "metadata": {},
   "source": [
    "### Importar a Redshift"
   ]
  },
  {
   "cell_type": "code",
   "execution_count": null,
   "metadata": {},
   "outputs": [],
   "source": [
    "import os\n",
    "import configparser"
   ]
  }
 ],
 "metadata": {
  "kernelspec": {
   "display_name": "Python 3 (ipykernel)",
   "language": "python",
   "name": "python3"
  },
  "language_info": {
   "codemirror_mode": {
    "name": "ipython",
    "version": 3
   },
   "file_extension": ".py",
   "mimetype": "text/x-python",
   "name": "python",
   "nbconvert_exporter": "python",
   "pygments_lexer": "ipython3",
   "version": "3.9.7"
  }
 },
 "nbformat": 4,
 "nbformat_minor": 4
}
